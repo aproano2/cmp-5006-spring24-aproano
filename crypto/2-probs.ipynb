{
 "cells": [
  {
   "cell_type": "markdown",
   "id": "4eca6eff",
   "metadata": {
    "slideshow": {
     "slide_type": "slide"
    }
   },
   "source": [
    "# Information Security\n",
    "\n",
    "### CMP-5006\n",
    "\n",
    "### Alejandro Proano, PhD"
   ]
  },
  {
   "cell_type": "markdown",
   "id": "faa80636",
   "metadata": {
    "slideshow": {
     "slide_type": "slide"
    }
   },
   "source": [
    "## Probabilities\n",
    "\n",
    "A discrete random variable, say $X$, consists of a finite set $X$ and a probability distribution defined on $X$. The probability that the random variable $X$ takes on the value $x$ is denoted $Pr[X = x]$; sometimes we will abbreviate this to $Pr[ x ]$ if the random variable $X$ is fixed. It must be the case that:\n",
    "\n",
    "> $0 ≤ Pr[ x ], \\forall x \\in X$\n",
    "\n",
    "> $\\sum_{x \\in X} Pr[x] = 1$."
   ]
  },
  {
   "cell_type": "markdown",
   "id": "70ac77cf",
   "metadata": {
    "slideshow": {
     "slide_type": "subslide"
    }
   },
   "source": [
    "### Bayes' Theorem\n",
    "\n",
    "\n",
    "If $Pr[y] > 0$, then\n",
    "\n",
    "> $Pr[ x |y] = \\frac{Pr[x]Pr[y|x]}{Pr[y]}$\n",
    "\n",
    "\n",
    "**COROLLARY:** If $X$ and $Y$ are independent random variables if and only if \n",
    "\n",
    "> $Pr[ x |y] = Pr[ x ]$\n",
    "\n",
    "> $\\forall x\\in X, y\\in Y$\n"
   ]
  },
  {
   "cell_type": "markdown",
   "id": "fe4847aa",
   "metadata": {
    "slideshow": {
     "slide_type": "slide"
    }
   },
   "source": [
    "## Perfect Secrecy\n",
    "\n",
    "A cryptosystem has perfect secrecy if \n",
    "\n",
    "> $Pr[ x |y] = Pr[ x ]$\n",
    "\n",
    "> $\\forall x ∈ P , y ∈ C$ \n",
    "\n",
    "That is, the a posteriori probability that the plaintext is $x$, given that the ciphertext $y$ is observed, is identical to the a priori probability that the plaintext is $x$."
   ]
  },
  {
   "cell_type": "markdown",
   "id": "fe626119",
   "metadata": {
    "slideshow": {
     "slide_type": "subslide"
    }
   },
   "source": [
    "### Example\n",
    "\n",
    "Shifter cryptosystem"
   ]
  },
  {
   "cell_type": "markdown",
   "id": "943c6cf5",
   "metadata": {
    "slideshow": {
     "slide_type": "slide"
    }
   },
   "source": [
    "\n",
    "## Entropy\n",
    "\n",
    "- In cryptography, entropy refers to the randomness collected by a system for use in algorithms that require random data. \n",
    "- Entropy is a measure of the unpredictability of information contained in a message. In other words, it is the expected value of the information contained in each message."
   ]
  },
  {
   "cell_type": "markdown",
   "id": "4ae709fd",
   "metadata": {
    "slideshow": {
     "slide_type": "subslide"
    }
   },
   "source": [
    "### Definition\n",
    "\n",
    "Suppose $X$ is a discrete random variable that takes on values from a finite set $X$. Then, the entropy of the random variable $X$ is defined to be the quantity:\n",
    "\n",
    "> $H (X) = − \\sum_{x \\in X} Pr[ x ] \\log_2 Pr[ x ]$.\n"
   ]
  },
  {
   "cell_type": "markdown",
   "id": "0d9e0ae6",
   "metadata": {
    "slideshow": {
     "slide_type": "subslide"
    }
   },
   "source": [
    "### Conditional Entropy\n",
    "\n",
    "Suppose $X$ and $Y$ are two random variables. Then for any fixed value $y$ of $Y$, we get a (conditional) probability distribution on $X$; we denote the associated random variable by $X|y$. Clearly,\n",
    "\n",
    "> $H (X|y) = − \\sum_x Pr[ x |y] \\log_2 Pr[ x |y]$\n",
    "\n",
    "We define the conditional entropy, denoted $H(X|Y)$, to be the weighted average $(with respect to the probabilities $Pr[y]$) of the entropies $H(X|y)$ over all possible values $y$. It is computed to be\n",
    "\n",
    "> $H (X|Y) = − \\sum_x \\sum_y Pr[y]Pr[ x |y] \\log_2 Pr[ x |y]$.\n",
    "\n",
    "The conditional entropy measures the average amount of information about $X$ that is not revealed by $Y$.\n"
   ]
  },
  {
   "cell_type": "markdown",
   "id": "a7619d73",
   "metadata": {
    "slideshow": {
     "slide_type": "subslide"
    }
   },
   "source": [
    "### Key Equivocation\n",
    "\n",
    "It is a measure of the amount of uncertainty of the key remaining when the ciphertext is known.\n",
    "\n",
    "> $H ( K | C ) = H ( K ) + H ( P ) − H ( C )$\n"
   ]
  },
  {
   "cell_type": "markdown",
   "id": "1c0d4447",
   "metadata": {
    "slideshow": {
     "slide_type": "subslide"
    }
   },
   "source": [
    "### Spurious Keys\n",
    "\n",
    "If a cryptoanalyst is trying to figure out the key used to encrypt a ciphertext. She will reduce the set of keys to a smaller set of keys. Of those keys, there is one that is the true key **k**. The other keys in this small set are called **spurious keys**\n",
    "\n",
    "\n"
   ]
  },
  {
   "cell_type": "markdown",
   "id": "d2d10b03",
   "metadata": {
    "slideshow": {
     "slide_type": "subslide"
    }
   },
   "source": [
    "### Redundancy\n",
    "\n",
    "Suppose $L$ is a natural language. The entropy of $L$ is defined to be the quantity\n",
    "\n",
    "> $H_L = \\lim_{n \\rightarrow \\infty} \\frac{H({\\bf P}^n)}{n}$\n",
    "\n",
    "where $P^n$ is the random variable that has as its probability distribution that of all n-grams of plaintext\n",
    "\n",
    "\n",
    "The redundancy of $L$ is defined to be\n",
    "\n",
    "> $R_L = 1 − \\frac{H_L}{\\log_2 |P |}$\n",
    "\n",
    "$H_L$ measures the entropy per letter of the language $L$. A random language would have entropy $log_2 |P |$. So the quantity $R_L$ measures the fraction of **excess characters**, which we think of as redundancy.\n"
   ]
  },
  {
   "cell_type": "markdown",
   "id": "81033427",
   "metadata": {
    "slideshow": {
     "slide_type": "subslide"
    }
   },
   "source": [
    "### Theorem\n",
    "\n",
    "Suppose there is a cryptosystem where $|C| = |P |$ and keys are chosen equiprobably. Let $R_L$ denote the redundancy of the underlying language. Then given a string of ciphertext of length $n$, where $n$ is sufficiently large, the expected number of spurious keys, $s_n$, satisfies\n",
    "\n",
    "> $\\hat{s_n} \\geq \\frac{|K|}{|P|^{nR_L}}$ - 1\n",
    "\n",
    "\n",
    "This quantity approaches 0 exponentially quickly as $n$ increases. "
   ]
  },
  {
   "cell_type": "markdown",
   "id": "a75af8f4",
   "metadata": {
    "slideshow": {
     "slide_type": "subslide"
    }
   },
   "source": [
    "### Unicity Distance \n",
    "\n",
    "A cryptosystem has a unicity distance is defined to be the value of $n$, denoted by $n_0$ , at which the expected number of spurious keys becomes zero; i.e., the average amount of ciphertext required for an opponent to be able to uniquely compute the key, given enough computing time.\n"
   ]
  }
 ],
 "metadata": {
  "celltoolbar": "Slideshow",
  "kernelspec": {
   "display_name": "Python 3",
   "language": "python",
   "name": "python3"
  },
  "language_info": {
   "codemirror_mode": {
    "name": "ipython",
    "version": 3
   },
   "file_extension": ".py",
   "mimetype": "text/x-python",
   "name": "python",
   "nbconvert_exporter": "python",
   "pygments_lexer": "ipython3",
   "version": "3.8.8"
  }
 },
 "nbformat": 4,
 "nbformat_minor": 5
}
