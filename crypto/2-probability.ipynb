{
 "cells": [
  {
   "cell_type": "markdown",
   "id": "4eca6eff",
   "metadata": {
    "slideshow": {
     "slide_type": "slide"
    }
   },
   "source": [
    "# Information Security\n",
    "\n",
    "### CMP-5006\n",
    "\n",
    "### Alejandro Proano, PhD"
   ]
  },
  {
   "cell_type": "markdown",
   "id": "faa80636",
   "metadata": {
    "slideshow": {
     "slide_type": "slide"
    }
   },
   "source": [
    "## Probabilities\n",
    "\n",
    "A discrete random variable, say $X$, consists of a finite set $X$ and a probability distribution defined on $X$. The probability that the random variable $X$ takes on the value $x$ is denoted $Pr[X = x]$; sometimes we will abbreviate this to $Pr[ x ]$ if the random variable $X$ is fixed. It must be the case that:\n",
    "\n",
    "> $0 \\leq Pr[ x ] \\leq 1, \\forall x \\in X$\n",
    "\n",
    "> $\\sum_{x \\in X} Pr[x] = 1$."
   ]
  },
  {
   "cell_type": "markdown",
   "id": "e49dd9ab",
   "metadata": {
    "slideshow": {
     "slide_type": "subslide"
    }
   },
   "source": [
    "### Bayes' Theorem\n",
    "\n",
    "\n",
    "If $Pr[y] > 0$, then\n",
    "\n",
    "> $Pr[ x |y] = \\frac{Pr[x]Pr[y|x]}{Pr[y]}$\n",
    "\n",
    "\n",
    "**COROLLARY:** If $X$ and $Y$ are independent random variables if and only if \n",
    "\n",
    "> $Pr[ x |y] = Pr[ x ]$\n",
    "\n",
    "> $\\forall x\\in X, y\\in Y$\n"
   ]
  },
  {
   "cell_type": "markdown",
   "id": "fe4847aa",
   "metadata": {
    "slideshow": {
     "slide_type": "slide"
    }
   },
   "source": [
    "## Perfect Secrecy\n",
    "\n",
    "A cryptosystem has perfect secrecy if \n",
    "\n",
    "> $Pr[ x |y] = Pr[ x ]$\n",
    "\n",
    "> $\\forall x ∈ P , y ∈ C$ \n",
    "\n",
    "That is, the a posteriori probability that the plaintext is $x$, given that the ciphertext $y$ is observed, is identical to the a priori probability that the plaintext is $x$."
   ]
  },
  {
   "cell_type": "markdown",
   "id": "e73f167d",
   "metadata": {
    "slideshow": {
     "slide_type": "subslide"
    }
   },
   "source": [
    "### Example\n",
    "\n",
    "Shifter cryptosystem"
   ]
  },
  {
   "cell_type": "markdown",
   "id": "943c6cf5",
   "metadata": {
    "slideshow": {
     "slide_type": "slide"
    }
   },
   "source": [
    "\n",
    "## Entropy\n",
    "\n",
    "- In cryptography, entropy refers to the randomness collected by a system for use in algorithms that require random data. \n",
    "- Entropy is a measure of the unpredictability of information contained in a message. In other words, it is the expected value of the information contained in each message."
   ]
  },
  {
   "cell_type": "markdown",
   "id": "5e096562",
   "metadata": {
    "slideshow": {
     "slide_type": "subslide"
    }
   },
   "source": [
    "### Definition\n",
    "\n",
    "Suppose $X$ is a discrete random variable that takes on values from a finite set $X$. Then, the entropy of the random variable $X$ is defined to be the quantity:\n",
    "\n",
    "> $H (X) = − \\sum_{x \\in X} Pr[ x ] \\log_2 Pr[ x ]$.\n"
   ]
  },
  {
   "cell_type": "markdown",
   "id": "26c4e2ae",
   "metadata": {
    "slideshow": {
     "slide_type": "subslide"
    }
   },
   "source": [
    "### Conditional Entropy\n",
    "\n",
    "Suppose $X$ and $Y$ are two random variables. Then for any fixed value $y$ of $Y$, we get a (conditional) probability distribution on $X$; we denote the associated random variable by $X|y$. Clearly,\n",
    "\n",
    "> $H (X|y) = − \\sum_x Pr[ x |y] \\log_2 Pr[ x |y]$\n",
    "\n",
    "We define the conditional entropy, denoted $H(X|Y)$, to be the weighted average (with respect to the probabilities $Pr[y]$) of the entropies $H(X|y)$ over all possible values $y$. It is computed to be\n",
    "\n",
    "> $H (X|Y) = − \\sum_x \\sum_y Pr[y]Pr[ x |y] \\log_2 Pr[ x |y]$.\n",
    "\n",
    "The conditional entropy measures the average amount of information about $X$ that is not revealed by $Y$.\n"
   ]
  },
  {
   "cell_type": "markdown",
   "id": "ae61b5cb",
   "metadata": {
    "slideshow": {
     "slide_type": "subslide"
    }
   },
   "source": [
    "### Key Equivocation\n",
    "\n",
    "It is a measure of the amount of uncertainty of the key remaining when the ciphertext is known.\n",
    "\n",
    "> $H ( K | C ) = H ( K ) + H ( P ) − H ( C )$\n"
   ]
  },
  {
   "cell_type": "markdown",
   "id": "cdb81d44",
   "metadata": {
    "slideshow": {
     "slide_type": "subslide"
    }
   },
   "source": [
    "### Spurious Keys\n",
    "\n",
    "If a cryptoanalyst is trying to figure out the key used to encrypt a ciphertext. She will reduce the set of keys to a smaller set of keys. Of those keys, there is one that is the true key **k**. The other keys in this small set are called **spurious keys**\n",
    "\n",
    "\n"
   ]
  },
  {
   "cell_type": "markdown",
   "id": "9445f9ea",
   "metadata": {
    "slideshow": {
     "slide_type": "subslide"
    }
   },
   "source": [
    "### Redundancy\n",
    "\n",
    "Suppose $L$ is a natural language. The entropy of $L$ is defined to be the quantity\n",
    "\n",
    "> $H_L = \\lim_{n \\rightarrow \\infty} \\frac{H({\\bf P}^n)}{n}$\n",
    "\n",
    "where $P^n$ is the random variable that has as its probability distribution that of all n-grams of plaintext\n",
    "\n",
    "\n",
    "The redundancy of $L$ is defined to be\n",
    "\n",
    "> $R_L = 1 − \\frac{H_L}{\\log_2 |P |}$\n",
    "\n",
    "$H_L$ measures the entropy per letter of the language $L$. A random language would have entropy $log_2 |P |$. So the quantity $R_L$ measures the fraction of **excess characters**, which we think of as redundancy.\n"
   ]
  },
  {
   "cell_type": "markdown",
   "id": "113b50c1",
   "metadata": {
    "slideshow": {
     "slide_type": "subslide"
    }
   },
   "source": [
    "### Theorem\n",
    "\n",
    "Suppose there is a cryptosystem where $|C| = |P |$ and keys are chosen equiprobably. Let $R_L$ denote the redundancy of the underlying language. Then given a string of ciphertext of length $n$, where $n$ is sufficiently large, the expected number of spurious keys, $s_n$, satisfies\n",
    "\n",
    "> $\\hat{s_n} \\geq \\frac{|K|}{|P|^{nR_L}}$ - 1\n",
    "\n",
    "\n",
    "This quantity approaches 0 exponentially quickly as $n$ increases. "
   ]
  },
  {
   "cell_type": "markdown",
   "id": "c15c8c20",
   "metadata": {
    "slideshow": {
     "slide_type": "subslide"
    }
   },
   "source": [
    "### Unicity Distance \n",
    "\n",
    "A cryptosystem has a unicity distance is defined to be the value of $n$, denoted by $n_0$ , at which the expected number of spurious keys becomes zero; i.e., the average amount of ciphertext required for an opponent to be able to uniquely compute the key, given enough computing time.\n"
   ]
  },
  {
   "cell_type": "code",
   "execution_count": 2,
   "id": "4e1a44b8",
   "metadata": {},
   "outputs": [
    {
     "data": {
      "text/plain": [
       "'01100001'"
      ]
     },
     "execution_count": 2,
     "metadata": {},
     "output_type": "execute_result"
    }
   ],
   "source": [
    "\"{0:08b}\".format(ord(\"a\"))"
   ]
  },
  {
   "cell_type": "code",
   "execution_count": null,
   "id": "f99035c4",
   "metadata": {},
   "outputs": [],
   "source": [
    "0110\n",
    "0001"
   ]
  },
  {
   "cell_type": "code",
   "execution_count": 15,
   "id": "165b385f",
   "metadata": {},
   "outputs": [
    {
     "data": {
      "text/plain": [
       "'abcdefghijklmnop'"
      ]
     },
     "execution_count": 15,
     "metadata": {},
     "output_type": "execute_result"
    }
   ],
   "source": [
    "ALPHABET"
   ]
  },
  {
   "cell_type": "code",
   "execution_count": 3,
   "id": "9e0a4327",
   "metadata": {},
   "outputs": [
    {
     "data": {
      "text/plain": [
       "97"
      ]
     },
     "execution_count": 3,
     "metadata": {},
     "output_type": "execute_result"
    }
   ],
   "source": [
    "ord(\"a\")"
   ]
  },
  {
   "cell_type": "code",
   "execution_count": 4,
   "id": "4dbadaaf",
   "metadata": {},
   "outputs": [
    {
     "data": {
      "text/plain": [
       "6"
      ]
     },
     "execution_count": 4,
     "metadata": {},
     "output_type": "execute_result"
    }
   ],
   "source": [
    "int(\"{0:08b}\".format(ord(\"a\"))[:4], 2)"
   ]
  },
  {
   "cell_type": "code",
   "execution_count": 17,
   "id": "8e58fd51",
   "metadata": {},
   "outputs": [
    {
     "name": "stdout",
     "output_type": "stream",
     "text": [
      "hkhjhlhihjhdhlhihlhjhhhdhjhdhhhehhhlhhhnhhhlhkhkhhhfhhhihhhhhkhjhhhghkhihkhfhhhnhkhihkhihhhhhkhjhhhlhhhjhhhjhhhjhkhihhhlhhhhhhhlhhhghkhjhkhjhhhfhkhghkhghkhj\n"
     ]
    }
   ],
   "source": [
    "import string\n",
    "\n",
    "LOWERCASE_OFFSET = ord(\"a\")\n",
    "ALPHABET = string.ascii_lowercase[:16]\n",
    "\n",
    "def b16_encode(plain):\n",
    "\tenc = \"\"\n",
    "\tfor c in plain:\n",
    "\t\tbinary = \"{0:08b}\".format(ord(c))\n",
    "\t\tenc += ALPHABET[int(binary[:4], 2)]\n",
    "\t\tenc += ALPHABET[int(binary[4:], 2)]\n",
    "\treturn enc\n",
    "\n",
    "def shift(c, k):\n",
    "\tt1 = ord(c) - LOWERCASE_OFFSET\n",
    "\tt2 = ord(k) - LOWERCASE_OFFSET\n",
    "\treturn ALPHABET[(t1 + t2) % len(ALPHABET)]\n",
    "\n",
    "flag = \"ihjghbjgjhfbhbfcfjflfjiifdfgffihfeigidfligigffihfjfhfhfhigfjfffjfeihihfdieieih\"\n",
    "key = \"b\"\n",
    "assert all([k in ALPHABET for k in key])\n",
    "assert len(key) == 1\n",
    "\n",
    "b16 = b16_encode(flag)\n",
    "enc = \"\"\n",
    "for i, c in enumerate(b16):\n",
    "\tenc += shift(c, key[i % len(key)])\n",
    "print(enc)"
   ]
  },
  {
   "cell_type": "code",
   "execution_count": 23,
   "id": "d100b130",
   "metadata": {},
   "outputs": [],
   "source": [
    "def unshift(c, k):\n",
    "\tt1 = ord(c) + LOWERCASE_OFFSET\n",
    "\tt2 = ord(k) + LOWERCASE_OFFSET\n",
    "\treturn ALPHABET[(t1 - t2) % len(ALPHABET)]"
   ]
  },
  {
   "cell_type": "code",
   "execution_count": 25,
   "id": "c5e33332",
   "metadata": {},
   "outputs": [],
   "source": [
    "def b16_decode(cipher):\n",
    "    dec = \"\"\n",
    "    for idx in range(0, len(cipher),2):\n",
    "        c1 = cipher[idx]\n",
    "        c2 = cipher[idx + 1]\n",
    "        \n",
    "        c1_i = ALPHABET.index(c1)\n",
    "        c2_i = ALPHABET.index(c2)\n",
    "        \n",
    "        \n",
    "        bin1 = \"{0:04b}\".format(c1_i)\n",
    "        bin2 = \"{0:04b}\".format(c2_i)\n",
    "        \n",
    "        binary = int(bin1+bin2,2)\n",
    "        \n",
    "        dec += chr(binary)\n",
    "    return dec\n",
    "        \n",
    "   "
   ]
  },
  {
   "cell_type": "code",
   "execution_count": 34,
   "id": "9e7194df",
   "metadata": {},
   "outputs": [],
   "source": [
    "def is_ascii(text):\n",
    "#    print(text)\n",
    "#    print(text.encode())\n",
    "    return len(text) == len(text.encode())\n",
    "    "
   ]
  },
  {
   "cell_type": "code",
   "execution_count": 36,
   "id": "64ad1d26",
   "metadata": {},
   "outputs": [
    {
     "name": "stdout",
     "output_type": "stream",
     "text": [
      "key: c,  picoCTF{et_tu?_0797f143e2da9dd3e7555d7372ee1bbe}\n",
      "key: e,  picoCTF{CR=RS\u001d",
      "=\u001e",
      "\u0015\u0017\u0015D\u001f\u0012\u0011C\u0010BO\u0017BB\u0011C\u0015\u0013\u0013\u0013B\u0015\u0011\u0015\u0010CC\u001f@@C}\n",
      "key: f,  picoCTF{2A,AB\f",
      ",\r",
      "\u0004\u0006\u00043\u000e\u0001\u00002\u000f1>\u000611\u00002\u0004\u0002\u0002\u00021\u0004\u0000\u0004\u000f22\u000e??2}\n"
     ]
    }
   ],
   "source": [
    "cipher = \"ihjghbjgjhfbhbfcfjflfjiifdfgffihfeigidfligigffihfjfhfhfhigfjfffjfeihihfdieieih\"\n",
    "\n",
    "for key in ALPHABET:\n",
    "    \n",
    "    plain = \"\"\n",
    "    \n",
    "    for x, y in enumerate(cipher):\n",
    "        \n",
    "        plain += unshift(y, key)\n",
    "        \n",
    "    output = b16_decode(plain)\n",
    "    \n",
    "    if is_ascii(output) and ' ' not in output:\n",
    "        print(\"key: {}, \".format(key), \"picoCTF{%s}\" % output)\n",
    "    \n",
    "        "
   ]
  },
  {
   "cell_type": "code",
   "execution_count": 7,
   "id": "27a18843",
   "metadata": {},
   "outputs": [
    {
     "data": {
      "text/plain": [
       "'abcdefghijklmnop'"
      ]
     },
     "execution_count": 7,
     "metadata": {},
     "output_type": "execute_result"
    }
   ],
   "source": [
    "ALPHABET"
   ]
  },
  {
   "cell_type": "code",
   "execution_count": null,
   "id": "5df99464",
   "metadata": {},
   "outputs": [],
   "source": [
    "key = 'ab'\n",
    "plaintext = 'fghi'"
   ]
  },
  {
   "cell_type": "code",
   "execution_count": 14,
   "id": "dcb95739",
   "metadata": {},
   "outputs": [
    {
     "data": {
      "text/plain": [
       "'gb'"
      ]
     },
     "execution_count": 14,
     "metadata": {},
     "output_type": "execute_result"
    }
   ],
   "source": [
    "b16_encode(\"a\")"
   ]
  },
  {
   "cell_type": "code",
   "execution_count": 13,
   "id": "d51fbbdb",
   "metadata": {},
   "outputs": [
    {
     "data": {
      "text/plain": [
       "0"
      ]
     },
     "execution_count": 13,
     "metadata": {},
     "output_type": "execute_result"
    }
   ],
   "source": [
    "ALPHABET.index('a')"
   ]
  },
  {
   "cell_type": "code",
   "execution_count": null,
   "id": "6c3b540d",
   "metadata": {},
   "outputs": [],
   "source": [
    "def b16_decode(cipher):\n",
    "\tenc = \"\"\n",
    "\tfor i in range(0,len(cipher),2):\n",
    "        p1 = ALPHABET.index(cipher[i])\n",
    "        p2 = ALPHABET.index(cipher[i+1])\n",
    "        \n",
    "\t\tbinary = \"{0:08b}\".format(ord(c))\n",
    "\t\tenc += ALPHABET[int(binary[:4], 2)]\n",
    "\t\tenc += ALPHABET[int(binary[4:], 2)]\n",
    "\treturn enc"
   ]
  }
 ],
 "metadata": {
  "celltoolbar": "Slideshow",
  "kernelspec": {
   "display_name": "Python 3",
   "language": "python",
   "name": "python3"
  },
  "language_info": {
   "codemirror_mode": {
    "name": "ipython",
    "version": 3
   },
   "file_extension": ".py",
   "mimetype": "text/x-python",
   "name": "python",
   "nbconvert_exporter": "python",
   "pygments_lexer": "ipython3",
   "version": "3.8.8"
  }
 },
 "nbformat": 4,
 "nbformat_minor": 5
}
