{
 "cells": [
  {
   "cell_type": "markdown",
   "id": "4eca6eff",
   "metadata": {
    "slideshow": {
     "slide_type": "slide"
    }
   },
   "source": [
    "# Information Security\n",
    "\n",
    "### CMP-5006\n",
    "\n",
    "### Alejandro Proano, PhD"
   ]
  },
  {
   "cell_type": "markdown",
   "id": "faa80636",
   "metadata": {
    "slideshow": {
     "slide_type": "slide"
    }
   },
   "source": [
    "## Cryptography\n",
    "\n",
    "Cryptography is the practice of securing communication by converting plain text into an unreadable format, known as ciphertext, using various mathematical algorithms. It ensures the confidentiality, integrity, and authenticity of data by making it difficult for unauthorized individuals to access or modify the information.\n"
   ]
  },
  {
   "cell_type": "markdown",
   "id": "fe4847aa",
   "metadata": {
    "slideshow": {
     "slide_type": "slide"
    }
   },
   "source": [
    "## Main Applications"
   ]
  },
  {
   "cell_type": "markdown",
   "id": "943c6cf5",
   "metadata": {
    "slideshow": {
     "slide_type": "subslide"
    }
   },
   "source": [
    "\n",
    "## Confidentiality\n",
    "\n",
    "This ensures that only authorized people can access the information at certain places, and it restricts access to other unauthorized parties. Encryption is a common technique used to achieve confidentiality. For example, when you send an email, the message is encrypted so that only the intended recipient can read it. Another example is when you enter your credit card information on a website, the information is encrypted so that hackers cannot intercept and steal it.\n"
   ]
  },
  {
   "cell_type": "markdown",
   "id": "2caf29f5",
   "metadata": {
    "slideshow": {
     "slide_type": "subslide"
    }
   },
   "source": [
    "## Integrity: \n",
    "\n",
    "This ensures that the data should be consistent and accurate without any alterations while in transit from the sender to the receiver. Cryptographic hashing is a common technique used to achieve integrity. For example, when you download a file from the internet, the file’s hash is calculated and compared to the hash provided by the website. If the hashes match, it means that the file has not been tampered with during the download process.\n"
   ]
  },
  {
   "cell_type": "markdown",
   "id": "b7a2e004",
   "metadata": {
    "slideshow": {
     "slide_type": "subslide"
    }
   },
   "source": [
    "## Authentication\n",
    "\n",
    "This ensures that the person who sent a specific message is the sender of that message. Digital signatures are a common technique used to achieve authentication. For example, when you sign a document digitally, the signature is encrypted and attached to the document. When someone else opens the document, they can verify that the signature is valid and that the document has not been tampered with."
   ]
  },
  {
   "cell_type": "markdown",
   "id": "e9f2dfb0",
   "metadata": {
    "slideshow": {
     "slide_type": "slide"
    }
   },
   "source": [
    "\n",
    "## Practical Uses of Cryptography\n",
    "\n",
    "1. **Secure Communication**: Cryptography is widely used in secure communication protocols such as Secure Sockets Layer (SSL) and Transport Layer Security (TLS). These protocols encrypt data transmitted over the internet, ensuring that sensitive information like passwords, credit card details, and personal data remain confidential and protected from eavesdropping.\n",
    "\n",
    "2. **Password Storage**: When storing passwords in databases, it is crucial to protect them from unauthorized access. Cryptographic hash functions like bcrypt or SHA-256 are used to convert passwords into irreversible hash values. This way, even if the database is compromised, the original passwords cannot be easily retrieved.\n",
    "\n",
    "3. **Digital Signatures**: Cryptography is used to create digital signatures, which provide proof of authenticity and integrity for digital documents or messages. By using asymmetric encryption algorithms, a sender can encrypt a document with their private key, and the recipient can verify the signature using the sender's public key. This ensures that the document has not been tampered with and originated from the claimed sender."
   ]
  },
  {
   "cell_type": "markdown",
   "id": "e61a510c",
   "metadata": {
    "slideshow": {
     "slide_type": "subslide"
    }
   },
   "source": [
    "\n",
    "4. **Virtual Private Networks (VPNs)**: VPNs use cryptography to create secure tunnels for transmitting data over public networks. By encrypting the data packets, VPNs ensure that the information remains confidential and protected from unauthorized access. This is particularly important when accessing sensitive corporate networks remotely or when using public Wi-Fi networks.\n",
    "\n",
    "5. **Blockchain Technology**: Cryptography plays a vital role in securing blockchain networks. It is used to create digital signatures, hash functions, and consensus algorithms that ensure the integrity and immutability of the blockchain. Cryptography enables secure transactions, prevents double-spending, and maintains the overall security of the decentralized network."
   ]
  },
  {
   "cell_type": "markdown",
   "id": "393878d5",
   "metadata": {
    "slideshow": {
     "slide_type": "slide"
    }
   },
   "source": [
    "## Elements of Cryptography\n",
    "\n",
    "1. **Plaintext:** Plaintext refers to the original message or data that is in a readable and understandable format. It is the information that needs to be protected from unauthorized access.\n",
    "\n",
    "2. **Ciphertext:** Ciphertext is the encrypted form of the plaintext. It is the result of applying cryptographic algorithms and techniques to the plaintext, making it unintelligible to anyone without the proper decryption key.\n",
    "\n",
    "3. **Key:** A key is a piece of information used in the encryption and decryption processes. It is a parameter that determines the specific transformation of the plaintext into ciphertext and vice versa. The key is essential for both encrypting and decrypting the message.\n",
    "\n",
    "4. **Encryption Algorithm:** An encryption algorithm is a set of mathematical rules and procedures used to convert plaintext into ciphertext. It defines the specific steps and operations required to transform the data securely.\n",
    "\n",
    "5. **Decryption Algorithm:** A decryption algorithm is the reverse of the encryption algorithm. It is used to convert the ciphertext back into plaintext using the same key that was used for encryption. The decryption algorithm follows a specific set of rules to reverse the encryption process."
   ]
  },
  {
   "cell_type": "markdown",
   "id": "5996a132",
   "metadata": {
    "slideshow": {
     "slide_type": "slide"
    }
   },
   "source": [
    "## Types of Cryptography\n",
    "\n",
    "1. **Symmetric Cryptography**\n",
    "   - Uses a single key for both encryption and decryption\n",
    "   - Examples: Data Encryption Standard (DES), Advanced Encryption Standard (AES)\n",
    "\n",
    "2. **Asymmetric Cryptography**\n",
    "   - Uses a pair of keys: public key for encryption and private key for decryption\n",
    "   - Examples: RSA, Elliptic Curve Cryptography (ECC)\n",
    "\n",
    "3. **Hash Functions**\n",
    "   - Converts data of any size into a fixed-size hash value\n",
    "   - Examples: MD5, SHA-256"
   ]
  },
  {
   "cell_type": "markdown",
   "id": "58ab848d",
   "metadata": {
    "slideshow": {
     "slide_type": "slide"
    }
   },
   "source": [
    "## History of Cryptography\n",
    "\n",
    "Cryptography, the practice of secure communication, has a long and fascinating history. Throughout the ages, individuals and organizations have used various techniques to protect their sensitive information from unauthorized access."
   ]
  },
  {
   "cell_type": "markdown",
   "id": "a405885d",
   "metadata": {
    "slideshow": {
     "slide_type": "subslide"
    }
   },
   "source": [
    "## 1. Ancient Egypt: \n",
    "The Egyptians used hieroglyphics to encode their messages. They would often substitute symbols or use complex patterns to hide the true meaning of their texts.\n",
    "\n",
    "![](./images/tomb-substitution.webp) "
   ]
  },
  {
   "cell_type": "markdown",
   "id": "89d1579b",
   "metadata": {
    "slideshow": {
     "slide_type": "subslide"
    }
   },
   "source": [
    "## 2. Julius Caesar:\n",
    " The Roman emperor, Julius Caesar, used a simple substitution cipher known as the Caesar cipher. He would shift each letter in the alphabet by a fixed number of positions to encrypt his messages.\n",
    "\n",
    "## 3. Mary, Queen of Scots: \n",
    "\n",
    "During her imprisonment, Mary, Queen of Scots, used a cipher called the Babington Plot cipher to communicate secretly with her supporters. This cipher involved using a grid to substitute letters with numbers."
   ]
  },
  {
   "cell_type": "markdown",
   "id": "46a5b7f6",
   "metadata": {
    "slideshow": {
     "slide_type": "subslide"
    }
   },
   "source": [
    "## 4. World War II: \n",
    "\n",
    "The Enigma machine, developed by the Germans, was a complex encryption device used to secure their military communications. It involved a series of rotors and plugboard connections to encrypt and decrypt messages.\n",
    "\n",
    "![](./images/enigmamachinelabeled.jpg) \n",
    "\n",
    "hello"
   ]
  },
  {
   "cell_type": "markdown",
   "id": "64000a53",
   "metadata": {
    "slideshow": {
     "slide_type": "subslide"
    }
   },
   "source": [
    "## 5. Modern Cryptography: \n",
    "\n",
    "With the advent of computers, cryptography has evolved significantly. Today, we use advanced algorithms and mathematical principles to ensure secure communication over the internet."
   ]
  },
  {
   "cell_type": "markdown",
   "id": "a17d7ea6",
   "metadata": {
    "slideshow": {
     "slide_type": "slide"
    }
   },
   "source": [
    "## Classic Cryptography\n",
    "\n",
    "Classic cryptography refers to the traditional methods of encrypting and decrypting messages that were used before the advent of modern computer-based encryption algorithms. These techniques have been employed for centuries to ensure the confidentiality and integrity of sensitive information. Classic cryptography primarily involves the use of substitution and transposition techniques to transform plaintext into ciphertext.\n",
    "\n",
    "    - Shift cipher\n",
    "    - Substitution cipher\n",
    "    - Affine cipher\n",
    "    - Vigenere cipher\n",
    "    - Hill cipher\n",
    "    - Permutation cipher\n",
    "    - Stream ciphers"
   ]
  },
  {
   "cell_type": "markdown",
   "id": "48594efc",
   "metadata": {
    "slideshow": {
     "slide_type": "slide"
    }
   },
   "source": [
    "## Caesar Cipher Implementation\n",
    "\n",
    "The Caesar cipher is a simple substitution cipher that is used to encrypt and decrypt messages. It works by shifting the letters of the plaintext by a certain number of positions in the alphabet. This number is known as the key or the shift."
   ]
  },
  {
   "cell_type": "markdown",
   "id": "d75114c2",
   "metadata": {
    "slideshow": {
     "slide_type": "subslide"
    }
   },
   "source": [
    "## Example\n",
    "\n",
    "Let's consider an example where the plaintext message is \"HELLO\" and the key is 3.\n",
    "\n",
    "### Encryption\n",
    "\n",
    "1. Convert the plaintext to uppercase: \"HELLO\".\n",
    "2. Iterate through each letter:\n",
    "   - \"H\" -> position 7 -> 7 + 3 = 10 -> 10 % 26 = 10 -> \"K\"\n",
    "   - \"E\" -> position 4 -> 4 + 3 = 7 -> 7 % 26 = 7 -> \"H\"\n",
    "   - \"L\" -> position 11 -> 11 + 3 = 14 -> 14 % 26 = 14 -> \"O\"\n",
    "   - \"L\" -> position 11 -> 11 + 3 = 14 -> 14 % 26 = 14 -> \"O\"\n",
    "   - \"O\" -> position 14 -> 14 + 3 = 17 -> 17 % 26 = 17 -> \"R\"\n",
    "3. The ciphertext is \"KHOOR\".\n",
    "\n",
    "### Decryption\n",
    "\n",
    "1. Convert the ciphertext to uppercase: \"KHOOR\".\n",
    "2. Iterate through each letter:\n",
    "   - \"K\" -> position 10 -> 10 - 3 = 7 -> 7 % 26 = 7 -> \"H\"\n",
    "   - \"H\" -> position 7 -> 7 - 3 = 4 -> 4 % 26 = 4 -> \"E\"\n",
    "   - \"O\" -> position 14 -> 14 - 3 = 11 -> 11 % 26 = 11 -> \"L\"\n",
    "   - \"O\" -> position 14 -> 14 - 3 = 11 -> 11 % 26 = 11 -> \"L\"\n",
    "   - \"R\" -> position 14 -> 14 - 3 = 11 -> 11 % 26 = 11 -> \"O\"\n",
    "3. The plaintext is \"HELLO\"."
   ]
  },
  {
   "cell_type": "markdown",
   "id": "00e27b6a",
   "metadata": {
    "slideshow": {
     "slide_type": "subslide"
    }
   },
   "source": [
    "### Encryption Process\n",
    "\n",
    "To encrypt a message using the Caesar cipher, the following steps are performed:\n",
    "\n",
    "1. Convert the plaintext message to uppercase (optional).\n",
    "2. Iterate through each letter in the plaintext message.\n",
    "3. Determine the position of the letter in the alphabet.\n",
    "4. Add the key (shift) to the position.\n",
    "5. Take the modulus of the result with 26 (the number of letters in the alphabet) to ensure the result stays within the range of the alphabet.\n",
    "6. Convert the new position back to a letter.\n",
    "7. Append the encrypted letter to the ciphertext."
   ]
  },
  {
   "cell_type": "markdown",
   "id": "3fbc89d3",
   "metadata": {
    "slideshow": {
     "slide_type": "subslide"
    }
   },
   "source": [
    "## Decryption Process\n",
    "\n",
    "To decrypt a message encrypted with the Caesar cipher, the following steps are performed:\n",
    "\n",
    "1. Convert the ciphertext message to uppercase (optional).\n",
    "2. Iterate through each letter in the ciphertext message.\n",
    "3. Determine the position of the letter in the alphabet.\n",
    "4. Subtract the key (shift) from the position.\n",
    "5. Take the modulus of the result with 26 (the number of letters in the alphabet) to ensure the result stays within the range of the alphabet.\n",
    "6. Convert the new position back to a letter.\n",
    "7. Append the decrypted letter to the plaintext."
   ]
  },
  {
   "cell_type": "markdown",
   "id": "56b5fd1f",
   "metadata": {
    "slideshow": {
     "slide_type": "slide"
    }
   },
   "source": [
    "## Vigenere Cipher Implementation\n",
    "\n",
    "The Vigenere cipher is a polyalphabetic substitution cipher that was invented by Giovan Battista Bellaso in the 16th century. It is a simple and effective way to encrypt and decrypt messages. The cipher uses a series of Caesar ciphers based on the letters of a keyword."
   ]
  },
  {
   "cell_type": "markdown",
   "id": "f0d74a9e",
   "metadata": {
    "slideshow": {
     "slide_type": "subslide"
    }
   },
   "source": [
    "## Example\n",
    "\n",
    "Let's encrypt the plaintext message \"HELLO\" using the keyword \"KEY\" using the Vigenere cipher:\n",
    "\n",
    "> Plaintext: H E L L O\n",
    "\n",
    "> Keyword: K E Y K E\n",
    "\n",
    "> Key numbers: 10 4 24 10 4\n",
    "\n",
    "> Plaintext numbers: 7 4 11 11 14\n",
    "\n",
    "Encryption:\n",
    "- H + K = 7 + 10 = 17 (R)\n",
    "- E + E = 4 + 4 = 8 (I)\n",
    "- L + Y = 11 + 24 = 9 (J)\n",
    "- L + K = 11 + 10 = 21 (V)\n",
    "- O + E = 14 + 4 = 18 (S)\n",
    "\n",
    "Ciphertext: R I J V S\n",
    "\n",
    "To decrypt the ciphertext, the same keyword \"KEY\" is used, and the process is reversed to obtain the original plaintext message \"HELLO\".\n"
   ]
  },
  {
   "cell_type": "markdown",
   "id": "92d0b411",
   "metadata": {
    "slideshow": {
     "slide_type": "subslide"
    }
   },
   "source": [
    "## Encryption Process\n",
    "\n",
    "To encrypt a plaintext message using the Vigenere cipher, the following steps are performed:\n",
    "\n",
    "1. Choose a keyword: Select a keyword that will be used to encrypt the message. The keyword should be a word or phrase that is easy to remember and not too short.\n",
    "\n",
    "2. Convert the keyword to a key: Convert the keyword into a key by repeating it until it matches the length of the plaintext message. For example, if the keyword is \"KEY\" and the plaintext message is \"HELLO\", the key would be \"KEYKE\".\n",
    "\n",
    "3. Convert the plaintext to numbers: Assign a number to each letter in the plaintext message using a standard numbering system, such as A=0, B=1, C=2, and so on.\n",
    "\n",
    "4. Convert the key to numbers: Assign a number to each letter in the key using the same numbering system.\n",
    "\n",
    "5. Encrypt the message: Add the corresponding numbers of the plaintext and key together, modulo 26. This means that if the sum is greater than 26, subtract 26 from the sum. Convert the resulting numbers back to letters using the same numbering system.\n",
    "\n",
    "6. Repeat the process: Repeat steps 3-5 for each letter in the plaintext message, using the next letter of the key each time.\n",
    "\n",
    "7. Generate the ciphertext: The resulting letters from step 6 form the ciphertext, which is the encrypted message."
   ]
  },
  {
   "cell_type": "markdown",
   "id": "d12d5ddb",
   "metadata": {
    "slideshow": {
     "slide_type": "subslide"
    }
   },
   "source": [
    "## Decryption Process\n",
    "\n",
    "To decrypt a ciphertext message encrypted with the Vigenere cipher, the following steps are performed:\n",
    "\n",
    "1. Choose the same keyword: Use the same keyword that was used to encrypt the message.\n",
    "\n",
    "2. Convert the keyword to a key: Convert the keyword into a key by repeating it until it matches the length of the ciphertext message.\n",
    "\n",
    "3. Convert the ciphertext to numbers: Assign a number to each letter in the ciphertext message using the same numbering system.\n",
    "\n",
    "4. Convert the key to numbers: Assign a number to each letter in the key using the same numbering system.\n",
    "\n",
    "5. Decrypt the message: Subtract the corresponding numbers of the ciphertext and key, modulo 26. This means that if the difference is negative, add 26 to the difference. Convert the resulting numbers back to letters using the same numbering system.\n",
    "\n",
    "6. Repeat the process: Repeat steps 3-5 for each letter in the ciphertext message, using the next letter of the key each time.\n",
    "\n",
    "7. Generate the plaintext: The resulting letters from step 6 form the plaintext, which is the decrypted message."
   ]
  },
  {
   "cell_type": "markdown",
   "id": "667248bb",
   "metadata": {
    "slideshow": {
     "slide_type": "slide"
    }
   },
   "source": [
    "## Crypoanalysis\n",
    "\n",
    "Cryptoanalysis is the process of using the knowledge of the cipher to obtain the plaintext without having the key used to encrypt it. "
   ]
  },
  {
   "cell_type": "markdown",
   "id": "9a238934",
   "metadata": {
    "slideshow": {
     "slide_type": "subslide"
    }
   },
   "source": [
    "### Breaking the Caesar Cipher\n",
    "The Caesar cipher is a substitution cipher where each letter in the plaintext is shifted a certain number of places down or up the alphabet. To break this cipher, we can use a technique called frequency analysis.\n",
    "\n",
    "1. Gather the encrypted text.\n",
    "2. Calculate the frequency of each letter in the encrypted text.\n",
    "3. Compare the frequency distribution with the expected frequency distribution of letters in the English language.\n",
    "4. Determine the shift value by finding the most common letter in the encrypted text and assuming it corresponds to the letter 'E' in English.\n",
    "5. Apply the reverse shift to decrypt the message."
   ]
  },
  {
   "cell_type": "code",
   "execution_count": 2,
   "id": "58caa3fe",
   "metadata": {
    "slideshow": {
     "slide_type": "subslide"
    }
   },
   "outputs": [],
   "source": [
    "# Example:\n",
    "\n",
    "ciphertext = \"\"\"\n",
    "Wkxi iokbc vkdob, kc ro pkmon dro psbsxq caekn, Myvyxov Kebovskxy Leoxnsk \n",
    "gkc dy bowowlob drkd nscdkxd kpdobxyyx grox rsc pkdrob dyyu rsw dy nscmyfob smo. \n",
    "Kd drkd dswo Wkmyxny gkc k fsvvkqo yp dgoxdi knylo ryecoc, lesvd yx dro lkxu yp \n",
    "k bsfob yp mvokb gkdob drkd bkx kvyxq k lon yp zyvscron cdyxoc, grsmr gobo grsdo\n",
    "kxn oxybwyec, vsuo zborscdybsm oqqc. Dro gybvn gkc cy bomoxd drkd wkxi drsxqc \n",
    "vkmuon xkwoc, kxn sx ybnob dy sxnsmkdo drow sd gkc xomocckbi dy zysxd. \n",
    "Ofobi iokb nebsxq dro wyxdr yp Wkbmr k pkwsvi yp bkqqon qizcsoc gyevn cod ez \n",
    "drosb doxdc xokb dro fsvvkqo, kxn gsdr k qbokd ezbykb yp zszoc kxn uoddvonbewc \n",
    "droi gyevn nsczvki xog sxfoxdsyxc. Psbcd droi lbyeqrd dro wkqxod\n",
    "\"\"\"\n"
   ]
  },
  {
   "cell_type": "code",
   "execution_count": 15,
   "id": "5d6a23ee",
   "metadata": {
    "slideshow": {
     "slide_type": "subslide"
    }
   },
   "outputs": [],
   "source": [
    "def decrypt_caesar_cipher(encrypted_text, key):\n",
    "    decrypted_text = \"\"\n",
    "    for letter in encrypted_text:\n",
    "        if letter.isalpha():\n",
    "            decrypted_letter = chr((ord(letter) - key - ord('A')) % 26 + ord('A'))\n",
    "            decrypted_text += decrypted_letter\n",
    "        else:\n",
    "            decrypted_text += letter\n",
    "    \n",
    "    return decrypted_text\n",
    "\n",
    "def count_letters(text):\n",
    "    letter_count = {}\n",
    "    for letter in text:\n",
    "        if letter.isalpha():\n",
    "            if letter.lower() in letter_count:\n",
    "                letter_count[letter.lower()] += 1\n",
    "            else:\n",
    "                letter_count[letter.lower()] = 1\n",
    "    return letter_count"
   ]
  },
  {
   "cell_type": "code",
   "execution_count": 8,
   "id": "c6bdf7af",
   "metadata": {},
   "outputs": [
    {
     "data": {
      "text/plain": [
       "[('o', 67),\n",
       " ('d', 54),\n",
       " ('k', 53),\n",
       " ('y', 40),\n",
       " ('x', 38),\n",
       " ('b', 36),\n",
       " ('s', 36),\n",
       " ('c', 32),\n",
       " ('r', 30),\n",
       " ('n', 23),\n",
       " ('v', 20),\n",
       " ('w', 15),\n",
       " ('g', 15),\n",
       " ('q', 14),\n",
       " ('p', 13),\n",
       " ('m', 13),\n",
       " ('e', 13),\n",
       " ('i', 12),\n",
       " ('z', 9),\n",
       " ('l', 7),\n",
       " ('f', 6),\n",
       " ('u', 5),\n",
       " ('a', 1)]"
      ]
     },
     "execution_count": 8,
     "metadata": {},
     "output_type": "execute_result"
    }
   ],
   "source": [
    "sorted(count_letters(ciphertext).items(), key=lambda item: item[1], reverse=True)"
   ]
  },
  {
   "cell_type": "markdown",
   "id": "ac3014da",
   "metadata": {
    "slideshow": {
     "slide_type": "subslide"
    }
   },
   "source": [
    "### Frequency analysis\n",
    "We know that O is the most frequent letter, so we can assume it corresponds to E. So the key is 10 (15-5)"
   ]
  },
  {
   "cell_type": "code",
   "execution_count": 18,
   "id": "05513f98",
   "metadata": {
    "slideshow": {
     "slide_type": "subslide"
    }
   },
   "outputs": [
    {
     "name": "stdout",
     "output_type": "stream",
     "text": [
      "\n",
      "MANY YEARS LATER, AS HE FACED THE FIRING SQUAD, COLONEL AURELIANO BUENDIA \n",
      "WAS TO REMEMBER THAT DISTANT AFTERNOON WHEN HIS FATHER TOOK HIM TO DISCOVER ICE. \n",
      "AT THAT TIME MACONDO WAS A VILLAGE OF TWENTY ADOBE HOUSES, BUILT ON THE BANK OF \n",
      "A RIVER OF CLEAR WATER THAT RAN ALONG A BED OF POLISHED STONES, WHICH WERE WHITE\n",
      "AND ENORMOUS, LIKE PREHISTORIC EGGS. THE WORLD WAS SO RECENT THAT MANY THINGS \n",
      "LACKED NAMES, AND IN ORDER TO INDICATE THEM IT WAS NECESSARY TO POINT. \n",
      "EVERY YEAR DURING THE MONTH OF MARCH A FAMILY OF RAGGED GYPSIES WOULD SET UP \n",
      "THEIR TENTS NEAR THE VILLAGE, AND WITH A GREAT UPROAR OF PIPES AND KETTLEDRUMS \n",
      "THEY WOULD DISPLAY NEW INVENTIONS. FIRST THEY BROUGHT THE MAGNET\n",
      "\n"
     ]
    }
   ],
   "source": [
    "print(decrypt_caesar_cipher(ciphertext.upper(), 10))"
   ]
  },
  {
   "cell_type": "markdown",
   "id": "83d906d2",
   "metadata": {},
   "source": [
    "## Breaking the Vigenere Cipher\n",
    "\n",
    "Breaking this cipher involves finding the length of the keyword and then performing frequency analysis on each letter of the keyword.\n",
    "\n",
    "1. Gather the encrypted text and the keyword.\n",
    "2. Determine the length of the keyword by using the Kasiski examination or the Index of Coincidence.\n",
    "3. Divide the encrypted text into groups based on the length of the keyword.\n",
    "4. Perform frequency analysis on each group to find the shift value for each letter of the keyword.\n",
    "5. Apply the reverse shift to decrypt the message."
   ]
  },
  {
   "cell_type": "code",
   "execution_count": 20,
   "id": "83877cc9",
   "metadata": {},
   "outputs": [],
   "source": [
    "ciphertext_vigenere = \"\"\"\n",
    "Weli cckvq verov, yc lc peaoh rri dsvgxk qayyn, Gmvslop Yevcvmyxs Zeilnmy \n",
    "geq ds poqcwfcb xfkx bswrkrr kjrovlysl glcx lgc jydlcb xmyo fsq ry hgcgmfip sgc. \n",
    "Kx rrer dmko Qymslns ukw y fmjveeo sd dacxxw khmli fyyqow, zemjd sl dlc lelu \n",
    "sd k vgfip yj aviyb aydip dlyd vyx ejyre k fcn sd zsjswfoh qdslow, urmar acbi\n",
    "urmro eln ilyvkyyq, vmio tpolgcxmbma okec. Xfo ambpb geq cs pogcxx rrer weli \n",
    "xfsrec pymocn rywiq, krb sr mbhcb xm srbsgydi rrik sx ukw logccwybc ry tmsrr. \n",
    "Ozcbc woep nypsre dlc wsldl mp Qybgf k jywmji sd beeqib qcncmcc amepb cir et \n",
    "rrigb xcxxq xiyb xfo zgvpyqi, yxh usxf k kpoer etpyep yj nstcc eln ocdxjohpeqq\n",
    "dlci amepb nmqzpyi rcg mlfildmmxw. Dsvqd xfoc zbssqlr dlc weexir.\n",
    "\"\"\""
   ]
  },
  {
   "cell_type": "code",
   "execution_count": null,
   "id": "927fe878",
   "metadata": {},
   "outputs": [],
   "source": []
  }
 ],
 "metadata": {
  "celltoolbar": "Slideshow",
  "kernelspec": {
   "display_name": "Python 3",
   "language": "python",
   "name": "python3"
  },
  "language_info": {
   "codemirror_mode": {
    "name": "ipython",
    "version": 3
   },
   "file_extension": ".py",
   "mimetype": "text/x-python",
   "name": "python",
   "nbconvert_exporter": "python",
   "pygments_lexer": "ipython3",
   "version": "3.8.8"
  }
 },
 "nbformat": 4,
 "nbformat_minor": 5
}
