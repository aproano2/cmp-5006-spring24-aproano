{
 "cells": [
  {
   "cell_type": "markdown",
   "id": "7dfe4468",
   "metadata": {
    "slideshow": {
     "slide_type": "slide"
    }
   },
   "source": [
    "# Information Security\n",
    "\n",
    "### CMP-5006\n",
    "\n",
    "### Alejandro Proano, PhD"
   ]
  },
  {
   "cell_type": "markdown",
   "id": "1fce8de2",
   "metadata": {
    "slideshow": {
     "slide_type": "slide"
    }
   },
   "source": [
    "# Introduction to Asymmetric Cryptography"
   ]
  },
  {
   "cell_type": "markdown",
   "id": "c5cd9864",
   "metadata": {
    "slideshow": {
     "slide_type": "subslide"
    }
   },
   "source": [
    "## What is Asymmetric Cryptography?\n",
    "\n",
    "- Asymmetric encryption, also known as, public-key cryptography, is a cryptographic system that uses two different keys: a public key and a private key.\n",
    "- The public key is used for encryption, while the private key is used for decryption.\n",
    "- Unlike symmetric encryption, where the same key is used for both encryption and decryption, public-key cryptography provides a more secure way of exchanging encrypted messages."
   ]
  },
  {
   "cell_type": "markdown",
   "id": "a7c696b9",
   "metadata": {
    "slideshow": {
     "slide_type": "subslide"
    }
   },
   "source": [
    "## How Does Asymmetric Cryptography Work?\n",
    "\n",
    "**1. Key Generation:**\n",
    "   - The key pair consists of a public key and a private key.\n",
    "   - The keys are mathematically related, but it is computationally infeasible to derive the private key from the public key.\n",
    "   \n",
    "**2. Encryption:**\n",
    "   - The sender encrypts the message using the public key, resulting in ciphertext.\n",
    "   - The ciphertext can only be decrypted using the recipient's private key.\n",
    "   - We can't use the public key to do anything but encrypting the message.\n",
    "\n",
    "**3. Decryption:**\n",
    "   - The recipient decrypts the ciphertext using their private key, revealing the original message.\n"
   ]
  },
  {
   "cell_type": "markdown",
   "id": "7b2bf47e",
   "metadata": {
    "slideshow": {
     "slide_type": "subslide"
    }
   },
   "source": [
    "## Advantages of Asymmetric Cryptography\n",
    "\n",
    "**1. Key Distribution:**\n",
    "   - Asymmetric cryptography eliminates the need for a secure channel to exchange keys.\n",
    "   - The public keys can be freely distributed, while the private keys remain secret.\n",
    "   - This makes it easier to securely distribute keys to multiple recipients.\n",
    "\n",
    "**2. Authentication:**\n",
    "   - Asymmetric cryptography enables digital signatures, which provide authentication and integrity.\n",
    "   - A digital signature is created using the sender's private key and can be verified using their public key.\n",
    "   - This ensures that the message has not been tampered with and that it was indeed sent by the claimed sender.\n",
    "\n",
    "**3. Forward Secrecy:**\n",
    "   - Asymmetric cryptography allows for forward secrecy, meaning that even if a private key is compromised, past communications remain secure.\n",
    "   - Each message is encrypted with a unique session key, which is then encrypted with the recipient's public key.\n",
    "   - If a private key is compromised, only the session keys for future communications are at risk, not the past ones."
   ]
  },
  {
   "cell_type": "markdown",
   "id": "a145db97",
   "metadata": {
    "slideshow": {
     "slide_type": "subslide"
    }
   },
   "source": [
    "## Applications\n",
    "\n",
    "- **Secure Communication:** Asymmetric encryption is widely used in secure communication protocols like HTTPS, SSH, and S/MIME.\n",
    "- **Digital Signatures:** Asymmetric encryption is used to create digital signatures, ensuring the authenticity and integrity of digital documents.\n",
    "- **Key Exchange:** Asymmetric encryption is used for secure key exchange in protocols like Diffie-Hellman.\n",
    "- **Secure Email:** Asymmetric encryption is used in email encryption protocols like PGP and S/MIME to protect the confidentiality of email messages.\n",
    "- **Secure File Transfer:** Asymmetric encryption is used in protocols like FTPS and SFTP to secure file transfers over the internet."
   ]
  },
  {
   "cell_type": "markdown",
   "id": "41b98b35",
   "metadata": {
    "slideshow": {
     "slide_type": "slide"
    }
   },
   "source": [
    "## Number Theory\n",
    "\n",
    "It is essential to understand some basic concepts from number theory.\n",
    "\n",
    "**Prime Numbers**\n",
    "- Prime numbers are at the heart of asymmetric encryption. \n",
    "- A prime number is a natural number greater than 1 that has no positive divisors other than 1 and itself. For example, 2, 3, 5, 7, and 11 are prime numbers.\n",
    "\n",
    "**Modular Arithmetic**\n",
    "- Modular arithmetic is a system of arithmetic for integers, where numbers \"wrap around\" after reaching a certain value called the modulus. \n",
    "- It is widely used in cryptography to perform operations on large numbers efficiently."
   ]
  },
  {
   "cell_type": "markdown",
   "id": "e026c6b3",
   "metadata": {
    "slideshow": {
     "slide_type": "subslide"
    }
   },
   "source": [
    "## Euclidean Algorithm \n",
    "\n",
    "**Goal:** Get the greatest common divisor (gcd) of two positive integers a and b:\n",
    "\n",
    "1. Set the value of the variable c to the larger of the two values a and b, and set d to the smaller of a and b.\n",
    "2. Find the remainder when c is divided by d. Call this remainder r.\n",
    "3. If r = 0, then gcd(a, b) = d. Stop.\n",
    "4. Otherwise, use the current values of d and r as the new values of c and d, respectively, and go back to step 2."
   ]
  },
  {
   "cell_type": "markdown",
   "id": "21ce99a7",
   "metadata": {
    "slideshow": {
     "slide_type": "slide"
    }
   },
   "source": [
    "## 1. RSA Cryptosystem\n",
    "\n",
    "- Developed in 1977 by Ron Rivest, Adi Shamir, and Leonard Adleman.\n",
    "- Based on the mathematical properties of large prime numbers and modular arithmetic.\n",
    "- Provides confidentiality, integrity, authentication, and non-repudiation."
   ]
  },
  {
   "cell_type": "markdown",
   "id": "e6eafc19",
   "metadata": {
    "slideshow": {
     "slide_type": "subslide"
    }
   },
   "source": [
    "## 2. Key Generation in RSA\n",
    "- Key generation involves generating a public-private key pair.\n",
    "- Steps:\n",
    "  1. Choose two distinct prime numbers, p and q.\n",
    "  2. Calculate n = p * q, which is the modulus.\n",
    "  3. Calculate φ(n) = (p-1) * (q-1), which is Euler's totient function.\n",
    "  4. Choose an integer e such that 1 < e < φ(n) and gcd(e, φ(n)) = 1, it's a coprime of φ(n)\n",
    "  5. Calculate d, the modular multiplicative inverse of e modulo φ(n), i.e., d ≡ e^(-1) (mod φ(n)).\n",
    "  6. The public key is (e, n) and the private key is (d, n)."
   ]
  },
  {
   "cell_type": "markdown",
   "id": "685c7f89",
   "metadata": {
    "slideshow": {
     "slide_type": "subslide"
    }
   },
   "source": [
    "## Example\n",
    "\n",
    "1. Select two prime numbers: p = 17 and q = 11.\n",
    "2. Compute the modulus: n = p * q = 17 * 11 = 187.\n",
    "3. Calculate the totient: φ(n) = (p - 1) * (q - 1) = 16 * 10 = 160.\n",
    "4. Choose a public exponent: e = 7 (coprime with 160).\n",
    "5. Compute the private exponent: d = 23 (modular multiplicative inverse of 7 modulo 160).\n",
    "6. The public key is (n, e) = (187, 7), and the private key is (n, d) = (187, 23)."
   ]
  },
  {
   "cell_type": "markdown",
   "id": "aae55a54",
   "metadata": {
    "slideshow": {
     "slide_type": "subslide"
    }
   },
   "source": [
    "## 3. Encryption in RSA\n",
    "- Encryption is performed using the recipient's public key.\n",
    "- Steps:\n",
    "  1. Convert the plaintext message into a numerical representation.\n",
    "  2. Obtain the recipient's public key (e, n).\n",
    "  3. Compute the ciphertext c = m^e (mod n), where m is the plaintext message.\n",
    "  4. Transmit the ciphertext to the recipient."
   ]
  },
  {
   "cell_type": "markdown",
   "id": "593faf72",
   "metadata": {
    "slideshow": {
     "slide_type": "subslide"
    }
   },
   "source": [
    "## 4. Decryption in RSA\n",
    "- Decryption is performed using the recipient's private key.\n",
    "- Steps:\n",
    "  1. Obtain the recipient's private key (d, n).\n",
    "  2. Receive the ciphertext c.\n",
    "  3. Compute the plaintext message m = c^d (mod n).\n",
    "  4. Convert the numerical representation of m back into the original plaintext message."
   ]
  },
  {
   "cell_type": "code",
   "execution_count": 2,
   "id": "a75ff649",
   "metadata": {},
   "outputs": [],
   "source": [
    "m = 29\n",
    "n = 187\n",
    "pub = 7\n",
    "priv = 23"
   ]
  },
  {
   "cell_type": "code",
   "execution_count": 3,
   "id": "0c321bec",
   "metadata": {},
   "outputs": [
    {
     "name": "stdout",
     "output_type": "stream",
     "text": [
      "160\n"
     ]
    }
   ],
   "source": [
    "c = (m ** pub) % n\n",
    "print(c)"
   ]
  },
  {
   "cell_type": "code",
   "execution_count": 5,
   "id": "25e1dcfa",
   "metadata": {},
   "outputs": [
    {
     "name": "stdout",
     "output_type": "stream",
     "text": [
      "29\n"
     ]
    }
   ],
   "source": [
    "print((c**priv) % n)"
   ]
  },
  {
   "cell_type": "code",
   "execution_count": 6,
   "id": "8be1943d",
   "metadata": {},
   "outputs": [
    {
     "name": "stdout",
     "output_type": "stream",
     "text": [
      "144\n"
     ]
    }
   ],
   "source": [
    "# Encrypt with the private key\n",
    "m1 = 100\n",
    "\n",
    "c1 = (m1 ** priv) % n\n",
    "print(c1)"
   ]
  },
  {
   "cell_type": "code",
   "execution_count": 7,
   "id": "7bfaeef9",
   "metadata": {},
   "outputs": [
    {
     "name": "stdout",
     "output_type": "stream",
     "text": [
      "100\n"
     ]
    }
   ],
   "source": [
    "# Decrypt with the public key\n",
    "print((c1**pub)%n)"
   ]
  },
  {
   "cell_type": "code",
   "execution_count": null,
   "id": "ba7585bf",
   "metadata": {},
   "outputs": [],
   "source": []
  }
 ],
 "metadata": {
  "celltoolbar": "Slideshow",
  "kernelspec": {
   "display_name": "Python 3",
   "language": "python",
   "name": "python3"
  },
  "language_info": {
   "codemirror_mode": {
    "name": "ipython",
    "version": 3
   },
   "file_extension": ".py",
   "mimetype": "text/x-python",
   "name": "python",
   "nbconvert_exporter": "python",
   "pygments_lexer": "ipython3",
   "version": "3.8.8"
  }
 },
 "nbformat": 4,
 "nbformat_minor": 5
}
