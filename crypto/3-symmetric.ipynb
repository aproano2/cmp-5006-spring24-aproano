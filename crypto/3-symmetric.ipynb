{
 "cells": [
  {
   "cell_type": "markdown",
   "id": "7dfe4468",
   "metadata": {
    "slideshow": {
     "slide_type": "slide"
    }
   },
   "source": [
    "# Information Security\n",
    "\n",
    "### CMP-5006\n",
    "\n",
    "### Alejandro Proano, PhD"
   ]
  },
  {
   "cell_type": "markdown",
   "id": "1fce8de2",
   "metadata": {
    "slideshow": {
     "slide_type": "slide"
    }
   },
   "source": [
    "# Introduction to Symmetric Cryptography"
   ]
  },
  {
   "cell_type": "markdown",
   "id": "c5cd9864",
   "metadata": {
    "slideshow": {
     "slide_type": "subslide"
    }
   },
   "source": [
    "## What is Symmetric Cryptography?\n",
    "\n",
    "Symmetric cryptography, also known as secret-key cryptography, is a method of encryption where the same key is used for both the encryption and decryption processes. It is one of the oldest and most widely used forms of cryptography.\n",
    "\n",
    "In symmetric cryptography, the sender and the receiver share a secret key that is used to encrypt and decrypt the message. This key must be kept confidential to ensure the security of the communication."
   ]
  },
  {
   "cell_type": "markdown",
   "id": "bc83891b",
   "metadata": {
    "slideshow": {
     "slide_type": "subslide"
    }
   },
   "source": [
    "## How Does Symmetric Cryptography Work?\n",
    "\n",
    "1. **Encryption**: The sender uses the shared secret key to encrypt the plaintext message into ciphertext. This process involves applying a mathematical algorithm to transform the original message into an unreadable form.\n",
    "\n",
    "2. **Transmission**: The encrypted ciphertext is transmitted over an insecure channel, such as the internet or a wireless network.\n",
    "\n",
    "3. **Decryption**: The receiver uses the same shared secret key to decrypt the ciphertext back into the original plaintext message. This process involves applying the inverse of the encryption algorithm to reverse the transformation."
   ]
  },
  {
   "cell_type": "markdown",
   "id": "d9ef1486",
   "metadata": {
    "slideshow": {
     "slide_type": "subslide"
    }
   },
   "source": [
    "## Advantages of Symmetric Cryptography\n",
    "\n",
    "- **Efficiency**: Symmetric cryptography is computationally efficient, making it suitable for encrypting large amounts of data quickly.\n",
    "\n",
    "- **Simplicity**: The algorithms used in symmetric cryptography are relatively simple and easy to implement.\n",
    "\n",
    "- **Security**: When properly implemented and managed, symmetric cryptography provides a high level of security."
   ]
  },
  {
   "cell_type": "markdown",
   "id": "b00b3276",
   "metadata": {
    "slideshow": {
     "slide_type": "subslide"
    }
   },
   "source": [
    "## Examples of Symmetric Cryptographic Algorithms\n",
    "\n",
    "1. **Data Encryption Standard (DES)**: DES is a symmetric encryption algorithm that uses a 56-bit key. It was widely used in the past but is now considered insecure due to its small key size.\n",
    "\n",
    "2. **Advanced Encryption Standard (AES)**: AES is a symmetric encryption algorithm that replaced DES. It supports key sizes of 128, 192, and 256 bits, making it more secure than DES.\n",
    "\n",
    "3. **Triple Data Encryption Standard (3DES)**: 3DES is a symmetric encryption algorithm that applies DES three times with different keys. It provides a higher level of security than DES but is slower due to the multiple encryption rounds.\n"
   ]
  },
  {
   "cell_type": "code",
   "execution_count": 12,
   "id": "c6328628",
   "metadata": {
    "slideshow": {
     "slide_type": "skip"
    }
   },
   "outputs": [
    {
     "data": {
      "text/plain": [
       "8.339999309945362"
      ]
     },
     "execution_count": 12,
     "metadata": {},
     "output_type": "execute_result"
    }
   ],
   "source": [
    "# DES\n",
    "# 1 us per key\n",
    "# 100K cpus\n",
    "(2**56)/(100000*1000000*3600*24)"
   ]
  },
  {
   "cell_type": "code",
   "execution_count": 14,
   "id": "12ef1e51",
   "metadata": {
    "slideshow": {
     "slide_type": "skip"
    }
   },
   "outputs": [
    {
     "data": {
      "text/plain": [
       "1.0790283070806014e+20"
      ]
     },
     "execution_count": 14,
     "metadata": {},
     "output_type": "execute_result"
    }
   ],
   "source": [
    "# AES\n",
    "# 1 us per key\n",
    "# 100K cpus\n",
    "(2**128)/(100000*1000000*3600*24*365)"
   ]
  },
  {
   "cell_type": "markdown",
   "id": "88032823",
   "metadata": {
    "slideshow": {
     "slide_type": "slide"
    }
   },
   "source": [
    "## Perfect Secrecy\n",
    "\n",
    "Perfect secrecy refers to a cryptographic system where the ciphertext provides no information about the plaintext, even if the attacker has unlimited computational power and resources. In other words, the encrypted message is completely secure and cannot be decrypted without the correct key."
   ]
  },
  {
   "cell_type": "markdown",
   "id": "4a25f73a",
   "metadata": {
    "slideshow": {
     "slide_type": "subslide"
    }
   },
   "source": [
    "## Requirements for Perfect Secrecy\n",
    "To achieve perfect secrecy, the following requirements must be met:\n",
    "\n",
    "1. Key Length: The key used for encryption must be at least as long as the plaintext message. This ensures that each possible plaintext has a unique corresponding ciphertext, making it impossible for an attacker to determine the original message.\n",
    "\n",
    "2. Key Distribution: The key must be securely distributed between the sender and the receiver. If the key falls into the wrong hands, perfect secrecy is compromised.\n",
    "\n",
    "3. Key Usage: The key should only be used once and then discarded. Reusing the same key for multiple messages increases the risk of decryption."
   ]
  },
  {
   "cell_type": "markdown",
   "id": "a917eb8e",
   "metadata": {
    "slideshow": {
     "slide_type": "subslide"
    }
   },
   "source": [
    "## Limitations and Practicality\n",
    "While perfect secrecy provides the highest level of security, it has certain limitations and practicality concerns:\n",
    "\n",
    "1. Key Length: Generating and managing long keys can be challenging and resource-intensive, especially for large-scale communication systems.\n",
    "\n",
    "2. Key Distribution: Securely distributing keys to all intended recipients can be a complex task, especially in scenarios where multiple parties are involved.\n",
    "\n",
    "3. Key Usage: Using a key only once for encryption and then discarding it can be impractical for real-world applications that require frequent communication."
   ]
  },
  {
   "cell_type": "markdown",
   "id": "99be01f9",
   "metadata": {
    "slideshow": {
     "slide_type": "slide"
    }
   },
   "source": [
    "## Block Ciphers\n"
   ]
  },
  {
   "cell_type": "markdown",
   "id": "faae399f",
   "metadata": {
    "slideshow": {
     "slide_type": "subslide"
    }
   },
   "source": [
    "\n",
    "## Substitution-Permutation Networks\n",
    "\n",
    "Block ciphers are symmetric encryption algorithms that operate on fixed-size blocks of data. They divide the input data into blocks of a fixed length and apply a series of transformations to each block. One common approach to designing block ciphers is using Substitution-Permutation Networks (SPN).\n",
    "\n"
   ]
  },
  {
   "cell_type": "markdown",
   "id": "82cad08e",
   "metadata": {
    "slideshow": {
     "slide_type": "subslide"
    }
   },
   "source": [
    "### Substitution\n",
    "\n",
    "The substitution step in an SPN involves replacing each element of the input block with another element from a predefined substitution table. This table, known as an S-box, maps each possible input value to a corresponding output value. The S-box is typically designed to be highly nonlinear, providing confusion and making it difficult for an attacker to deduce the original input.\n",
    "\n"
   ]
  },
  {
   "cell_type": "markdown",
   "id": "44829405",
   "metadata": {
    "slideshow": {
     "slide_type": "subslide"
    }
   },
   "source": [
    "### Permutation\n",
    "\n",
    "After the substitution step, the permutation step rearranges the elements of the block according to a predefined permutation table. This step provides diffusion, spreading the influence of each input bit across the entire block. The permutation table ensures that each bit in the output block depends on multiple bits from the input block, increasing the complexity of the encryption process.\n",
    "\n"
   ]
  },
  {
   "cell_type": "markdown",
   "id": "ba66b45e",
   "metadata": {
    "slideshow": {
     "slide_type": "subslide"
    }
   },
   "source": [
    "### Key Expansion\n",
    "\n",
    "To enhance the security of block ciphers, a key expansion algorithm is used to generate a set of round keys from the original encryption key. Each round key is used in the encryption process to modify the input block. The key expansion algorithm ensures that each round key is unique and independent of the original key, making it harder for an attacker to recover the key.\n",
    "\n"
   ]
  },
  {
   "cell_type": "markdown",
   "id": "3a91800a",
   "metadata": {
    "slideshow": {
     "slide_type": "subslide"
    }
   },
   "source": [
    "### Rounds\n",
    "\n",
    "The encryption process in block ciphers is typically performed in multiple rounds. Each round consists of a combination of substitution, permutation, and key mixing operations. The number of rounds depends on the specific block cipher algorithm and the desired level of security. More rounds generally provide stronger encryption but also increase the computational overhead."
   ]
  }
 ],
 "metadata": {
  "celltoolbar": "Slideshow",
  "kernelspec": {
   "display_name": "Python 3",
   "language": "python",
   "name": "python3"
  },
  "language_info": {
   "codemirror_mode": {
    "name": "ipython",
    "version": 3
   },
   "file_extension": ".py",
   "mimetype": "text/x-python",
   "name": "python",
   "nbconvert_exporter": "python",
   "pygments_lexer": "ipython3",
   "version": "3.8.8"
  }
 },
 "nbformat": 4,
 "nbformat_minor": 5
}
