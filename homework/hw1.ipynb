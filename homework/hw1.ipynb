{
 "cells": [
  {
   "cell_type": "markdown",
   "id": "dbdba874",
   "metadata": {},
   "source": [
    "# Information Security\n",
    "\n",
    "## CMP-5006\n",
    "\n",
    "## Homework 1\n"
   ]
  },
  {
   "cell_type": "markdown",
   "id": "e14a292b",
   "metadata": {},
   "source": [
    "### Exercise 1\n",
    "\n",
    "Let $n$ be a positive integer. A Latin square of order $n$ is an $n \\times n$ array $L$ of the integers $1, ... , n$ such that every one of the $n$ integers occurs exactly once in each row and each column of $L$. An example of a Latin square of order 3 is as follows:\n",
    "\n",
    "||C1|C2|C3|\n",
    "|-|-|-|-|\n",
    "|R1|1|2|3|\n",
    "|R2|3|1|2|\n",
    "|R3|2|3|1|\n",
    "\n",
    "Given any Latin square $L$ of order $n$, we can define a related Latin Square Cryptosystem. Let the sets $P$ = $C$ = $K$ = ${1, . . . , n}$, be the sets representing the space for the plaintext, ciphertext and keys. For $1 ≤ i ≤ n$, the encryption rule $e_i$ is defined to be $e_i(j) = L(i,j).$ Here, $i$ would be the key, $j$ the plaintext, and  $e_i(j)$ the ciphertext. \n",
    "\n",
    "Give a complete proof that this Latin Square Cryptosystem achieves perfect\n",
    "secrecy provided that every key is used with equal probability."
   ]
  },
  {
   "cell_type": "markdown",
   "id": "0c6487a7",
   "metadata": {},
   "source": [
    "### Exercise 2\n",
    "\n",
    "Consider a cryptosystem in which the sets representing the plaintext, ciphertext and keys are: $P = { a, b, c}$, $K = {K1 , K2 , K3 }$ and $C ={1, 2, 3, 4}$. Suppose the encryption matrix is as follows:\n",
    "\n",
    "||a| b| c|\n",
    "|-|-|-|-|\n",
    "|K1| 1| 2| 3|\n",
    "|K2| 2| 3| 4|\n",
    "|K3| 3| 4| 1|\n",
    "\n",
    "Given that keys are chosen equiprobably, and the plaintext probability distribution is $Pr[ a] = 1/2$, $Pr[b] = 1/3$, $Pr[c] = 1/6$, compute $H(P)$, $H(C)$, $H(K)$, $H(K|C)$, and $H(P|C)$."
   ]
  },
  {
   "cell_type": "markdown",
   "id": "ef1d69c1",
   "metadata": {},
   "source": [
    "### Exercise 3\n",
    "\n",
    "Compute $H(K|C)$ and $H(K|P, C)$ for the Affine Cipher, assuming that keys are used equiprobably and the plaintexts are equiprobable."
   ]
  },
  {
   "cell_type": "markdown",
   "id": "3073ccdb",
   "metadata": {},
   "source": [
    "### Exercise 4\n",
    "\n",
    "Show that the unicity distance of the Hill Cipher (with an $m \\times m$ encryption matrix) is less than $\\frac{m}{R_L}$ . (Note that the number of alphabetic characters ina plaintext of this length is $\\frac{m^2}{R_L}$.)"
   ]
  }
 ],
 "metadata": {
  "kernelspec": {
   "display_name": "Python 3",
   "language": "python",
   "name": "python3"
  },
  "language_info": {
   "codemirror_mode": {
    "name": "ipython",
    "version": 3
   },
   "file_extension": ".py",
   "mimetype": "text/x-python",
   "name": "python",
   "nbconvert_exporter": "python",
   "pygments_lexer": "ipython3",
   "version": "3.8.8"
  }
 },
 "nbformat": 4,
 "nbformat_minor": 5
}
